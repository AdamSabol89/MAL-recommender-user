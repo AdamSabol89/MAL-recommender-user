{
 "cells": [
  {
   "cell_type": "code",
   "execution_count": 1,
   "id": "active-donor",
   "metadata": {},
   "outputs": [],
   "source": [
    "import requests\n",
    "import json\n",
    "from bs4 import BeautifulSoup as bs\n",
    "import requests\n",
    "import pandas as pd\n",
    "import time\n",
    "from malscraper import users "
   ]
  },
  {
   "cell_type": "code",
   "execution_count": 2,
   "id": "designed-procedure",
   "metadata": {},
   "outputs": [],
   "source": [
    "#Load the webpage\n",
    "r = requests.get(\"https://myanimelist.net/users.php\")\n",
    "\n",
    "#beautiful soup object\n",
    "soup = bs(r.content)"
   ]
  },
  {
   "cell_type": "code",
   "execution_count": 4,
   "id": "least-indian",
   "metadata": {},
   "outputs": [],
   "source": [
    "#Get table \n",
    "table = soup.find(\"table\")"
   ]
  },
  {
   "cell_type": "code",
   "execution_count": 5,
   "id": "unknown-rebound",
   "metadata": {},
   "outputs": [
    {
     "data": {
      "text/plain": [
       "[<div style=\"margin-bottom: 7px;\"><a href=\"/profile/Himiko761\">Himiko761</a></div>,\n",
       " <div style=\"margin-bottom: 7px;\"><a href=\"/profile/stivenalexs\">stivenalexs</a></div>,\n",
       " <div style=\"margin-bottom: 7px;\"><a href=\"/profile/kamuller71\">kamuller71</a></div>,\n",
       " <div style=\"margin-bottom: 7px;\"><a href=\"/profile/Jenkins482\">Jenkins482</a></div>,\n",
       " <div style=\"margin-bottom: 7px;\"><a href=\"/profile/Boron05\">Boron05</a></div>,\n",
       " <div style=\"margin-bottom: 7px;\"><a href=\"/profile/Hjinyi\">Hjinyi</a></div>,\n",
       " <div style=\"margin-bottom: 7px;\"><a href=\"/profile/Potato_Farm\">Potato_Farm</a></div>,\n",
       " <div style=\"margin-bottom: 7px;\"><a href=\"/profile/Sikemr68\">Sikemr68</a></div>,\n",
       " <div style=\"margin-bottom: 7px;\"><a href=\"/profile/Riksonic1\">Riksonic1</a></div>,\n",
       " <div style=\"margin-bottom: 7px;\"><a href=\"/profile/Bses_061\">Bses_061</a></div>,\n",
       " <div style=\"margin-bottom: 7px;\"><a href=\"/profile/ODsJay\">ODsJay</a></div>,\n",
       " <div style=\"margin-bottom: 7px;\"><a href=\"/profile/abd9891\">abd9891</a></div>,\n",
       " <div style=\"margin-bottom: 7px;\"><a href=\"/profile/Havoc06\">Havoc06</a></div>,\n",
       " <div style=\"margin-bottom: 7px;\"><a href=\"/profile/SGT_Wiggly\">SGT_Wiggly</a></div>,\n",
       " <div style=\"margin-bottom: 7px;\"><a href=\"/profile/PhSoares\">PhSoares</a></div>,\n",
       " <div style=\"margin-bottom: 7px;\"><a href=\"/profile/NijiiroSakana\">NijiiroSakana</a></div>,\n",
       " <div style=\"margin-bottom: 7px;\"><a href=\"/profile/NamelessguY2\">NamelessguY2</a></div>,\n",
       " <div style=\"margin-bottom: 7px;\"><a href=\"/profile/Ahnaf416\">Ahnaf416</a></div>,\n",
       " <div style=\"margin-bottom: 7px;\"><a href=\"/profile/Slothtronaut\">Slothtronaut</a></div>,\n",
       " <div style=\"margin-bottom: 7px;\"><a href=\"/profile/robozin\">robozin</a></div>]"
      ]
     },
     "execution_count": 5,
     "metadata": {},
     "output_type": "execute_result"
    }
   ],
   "source": [
    "#Get user info\n",
    "usersdiv = table.find_all(\"div\", attrs={\"style\":\"margin-bottom: 7px;\"})\n",
    "usersdiv"
   ]
  },
  {
   "cell_type": "code",
   "execution_count": 6,
   "id": "concerned-depth",
   "metadata": {},
   "outputs": [
    {
     "name": "stdout",
     "output_type": "stream",
     "text": [
      "/profile/Himiko761 Himiko761\n",
      "/profile/stivenalexs stivenalexs\n",
      "/profile/kamuller71 kamuller71\n",
      "/profile/Jenkins482 Jenkins482\n",
      "/profile/Boron05 Boron05\n",
      "/profile/Hjinyi Hjinyi\n",
      "/profile/Potato_Farm Potato_Farm\n",
      "/profile/Sikemr68 Sikemr68\n",
      "/profile/Riksonic1 Riksonic1\n",
      "/profile/Bses_061 Bses_061\n",
      "/profile/ODsJay ODsJay\n",
      "/profile/abd9891 abd9891\n",
      "/profile/Havoc06 Havoc06\n",
      "/profile/SGT_Wiggly SGT_Wiggly\n",
      "/profile/PhSoares PhSoares\n",
      "/profile/NijiiroSakana NijiiroSakana\n",
      "/profile/NamelessguY2 NamelessguY2\n",
      "/profile/Ahnaf416 Ahnaf416\n",
      "/profile/Slothtronaut Slothtronaut\n",
      "/profile/robozin robozin\n"
     ]
    }
   ],
   "source": [
    "#Get list of users\n",
    "users = []\n",
    "for i in range(len(usersdiv)):\n",
    "    print(usersdiv[i].a[\"href\"]+ ' ' + usersdiv[i].get_text())\n",
    "    users.append(usersdiv[i].get_text())"
   ]
  },
  {
   "cell_type": "code",
   "execution_count": null,
   "id": "chinese-governor",
   "metadata": {},
   "outputs": [],
   "source": [
    "#create a function to scrape based on user list\n",
    "def scraper(times):\n",
    "    final_data = pd.DataFrame()\n",
    "   \n",
    "    for index in range(times):\n",
    "        r = requests.get(\"https://myanimelist.net/users.php\")\n",
    "        time.sleep(.5)\n",
    "        soup = bs(r.content)\n",
    "        table = soup.find(\"table\")\n",
    "        usersdiv = table.find_all(\"div\", attrs={\"style\":\"margin-bottom: 7px;\"})\n",
    "        malusers = []\n",
    "        \n",
    "        for i in range(len(usersdiv)):\n",
    "            malusers.append(usersdiv[i].get_text())\n",
    "        print(malusers)\n",
    "        for maluser in malusers:\n",
    "            try:\n",
    "                data = users.get_user_anime_list(maluser)\n",
    "                df= pd.DataFrame(data)\n",
    "                final_data = final_data.append(df)\n",
    "            except Exception as e:\n",
    "                continue\n",
    "\n",
    "\n",
    "    return final_data\n",
    "            \n",
    "\n",
    "        "
   ]
  },
  {
   "cell_type": "code",
   "execution_count": null,
   "id": "mineral-candidate",
   "metadata": {},
   "outputs": [],
   "source": [
    "#scraped mal for data/information\n",
    "anime_data = scraper(220)\n",
    "anime_data2 = scraper(30)"
   ]
  },
  {
   "cell_type": "code",
   "execution_count": null,
   "id": "statewide-turner",
   "metadata": {},
   "outputs": [],
   "source": [
    "final_anime_data = anime_data.append(anime_data2)"
   ]
  },
  {
   "cell_type": "code",
   "execution_count": null,
   "id": "bright-confidentiality",
   "metadata": {},
   "outputs": [],
   "source": [
    "#save data as csv file \n",
    "final_anime_data.to_csv(\"AnimeData\", header = True, index = False)"
   ]
  }
 ],
 "metadata": {
  "kernelspec": {
   "display_name": "Python 3",
   "language": "python",
   "name": "python3"
  },
  "language_info": {
   "codemirror_mode": {
    "name": "ipython",
    "version": 3
   },
   "file_extension": ".py",
   "mimetype": "text/x-python",
   "name": "python",
   "nbconvert_exporter": "python",
   "pygments_lexer": "ipython3",
   "version": "3.7.10"
  }
 },
 "nbformat": 4,
 "nbformat_minor": 5
}
